{
 "cells": [
  {
   "cell_type": "code",
   "execution_count": 1,
   "metadata": {},
   "outputs": [
    {
     "name": "stdout",
     "output_type": "stream",
     "text": [
      "Let's calculate\n",
      "1\n",
      "Value 1: 1\n",
      "+\n",
      "Operator +\n",
      "2\n",
      "Value2: 2\n",
      "Result: 3\n"
     ]
    }
   ],
   "source": [
    "#Task 01\n",
    "class Calculator:\n",
    "    def __init__(self):\n",
    "        print('Let\\'s calculate')\n",
    "    def add(self,x,y):\n",
    "        add=x+y\n",
    "        return add\n",
    "    def substract(self,x,y):\n",
    "        sub=x-y\n",
    "        return sub\n",
    "    def multiply(self,x,y):\n",
    "        mul=x*y\n",
    "        return mul\n",
    "    def divide(self,x,y):\n",
    "        div=x/y\n",
    "        return div\n",
    "obj1=Calculator()\n",
    "num1=int(input())\n",
    "print('Value 1:',num1)\n",
    "oparetor=input()\n",
    "print('Operator',oparetor)\n",
    "num2=int(input())\n",
    "print('Value2:',num2)\n",
    "if oparetor=='+':\n",
    "    print('Result:',obj1.add(num1,num2))\n",
    "elif oparetor=='-':\n",
    "    print('Result:',obj1.substract(num1,num2))\n",
    "elif oparetor=='*':\n",
    "    print('Result:', obj1.multiply(num1,num2))\n",
    "elif oparetor=='/':\n",
    "    print('Result:', obj1.divide(num1,num2))\n"
   ]
  },
  {
   "cell_type": "code",
   "execution_count": 2,
   "metadata": {},
   "outputs": [
    {
     "name": "stdout",
     "output_type": "stream",
     "text": [
      "Hello! \n",
      "Sam you purchased 3 item(s)\n",
      "chips\n",
      "chocolate\n",
      "orange juice\n",
      "\n",
      "-----------------------------\n",
      "Hello! David\n",
      "David you purchased 1 item(s)\n",
      "orange juice\n",
      "\n"
     ]
    }
   ],
   "source": [
    "#Task 02\n",
    "class Customer:\n",
    "    def __init__(self,name):\n",
    "        self.name=name\n",
    "    def greet(self,name=''):\n",
    "        print('Hello!', name)\n",
    "    def purchase(self,*args):\n",
    "        product=''\n",
    "        counter=0\n",
    "        for i in args:\n",
    "            product+=i+'\\n'\n",
    "            counter+=1\n",
    "        print(self.name,'you purchased',counter,'item(s)')\n",
    "        print(product)\n",
    "customer_1 = Customer(\"Sam\")\n",
    "customer_1.greet()\n",
    "customer_1.purchase(\"chips\", \"chocolate\", \"orange juice\")\n",
    "print(\"-----------------------------\")\n",
    "customer_2 = Customer(\"David\")\n",
    "customer_2.greet(\"David\")\n",
    "customer_2.purchase(\"orange juice\")\n"
   ]
  },
  {
   "cell_type": "code",
   "execution_count": 3,
   "metadata": {},
   "outputs": [
    {
     "name": "stdout",
     "output_type": "stream",
     "text": [
      "Kunfu is a Male Panda Bear who is 5 years old\n",
      "Pan Pan is a Female Panda Bear who is 3 years old\n",
      "Ming Ming is a Female Panda Bear who is 8 years old\n",
      "Pan Pan sleeps 10 hours daily and should have Broccoli Chicken\n",
      "Kunfu sleeps 4 hours daily and should have Mixed Veggies\n",
      "Ming Ming's duration is unknown thus should have only bamboo leaves\n"
     ]
    }
   ],
   "source": [
    "#Task 03\n",
    "class Panda:\n",
    "    def __init__(self,name,gender,age):\n",
    "        self.name=name\n",
    "        self.gender=gender\n",
    "        self.age=age\n",
    "    def sleep(self,time=0):\n",
    "        if 9<= time<=11:\n",
    "            x= self.name +' sleeps '+ str(time)+' hours daily and should have Broccoli Chicken'\n",
    "            return x\n",
    "        elif 6<= time<=8:\n",
    "            x = self.name + ' sleeps ' + str(time) + ' hours daily and should have Eggplant & Tofu'\n",
    "            return x\n",
    "        elif 3<= time<=5:\n",
    "            x = self.name + ' sleeps ' + str(time) + ' hours daily and should have Mixed Veggies'\n",
    "            return x\n",
    "        elif time==0:\n",
    "            x = self.name + \"'s duration is unknown thus should have only bamboo leaves\"\n",
    "            return x\n",
    "panda1 = Panda(\"Kunfu\",\"Male\", 5)\n",
    "panda2=Panda(\"Pan Pan\",\"Female\",3)\n",
    "panda3=Panda(\"Ming Ming\",\"Female\",8)\n",
    "print(\"{} is a {} Panda Bear who is {} years old\".format(panda1.name,panda1.gender,panda1.age))\n",
    "print(\"{} is a {} Panda Bear who is {} years old\".format(panda2.name,panda2.gender,panda2.age))\n",
    "print(\"{} is a {} Panda Bear who is {} years old\".format(panda3.name,panda3.gender,panda3.age))\n",
    "print(panda2.sleep(10))\n",
    "print(panda1.sleep(4))\n",
    "print(panda3.sleep())"
   ]
  },
  {
   "cell_type": "code",
   "execution_count": 4,
   "metadata": {},
   "outputs": [
    {
     "name": "stdout",
     "output_type": "stream",
     "text": [
      "White cat is  sitting\n",
      "Black cat is  sitting\n",
      "Brown cat is  jumping\n",
      "Red cat is  purring\n",
      "Blue cat is  sitting\n",
      "Purple cat is  jumping\n"
     ]
    }
   ],
   "source": [
    "#Task 04\n",
    "class Cat:\n",
    "    def __init__(self,color='White',act='sitting'):\n",
    "        self.color=color\n",
    "        self.act=act\n",
    "    def printCat(self):\n",
    "        print(self.color,'cat is ',self.act)\n",
    "    def changeColor(self,new):\n",
    "        self.color=new\n",
    "c1 = Cat()\n",
    "c2 = Cat(\"Black\")\n",
    "c3 = Cat(\"Brown\", \"jumping\")\n",
    "c4 = Cat(\"Red\", \"purring\")\n",
    "c1.printCat()\n",
    "c2.printCat()\n",
    "c3.printCat()\n",
    "c4.printCat()\n",
    "c1.changeColor(\"Blue\")\n",
    "c3.changeColor(\"Purple\")\n",
    "c1.printCat()\n",
    "c3.printCat()\n"
   ]
  },
  {
   "cell_type": "code",
   "execution_count": 5,
   "metadata": {},
   "outputs": [
    {
     "name": "stdout",
     "output_type": "stream",
     "text": [
      "0 0\n",
      "0 1\n",
      "-1 1\n",
      "-1 0\n"
     ]
    }
   ],
   "source": [
    "#Task 05\n",
    "class Vehicle:\n",
    "    def __init__(self,x=0,y=0):\n",
    "        self.x=x\n",
    "        self.y=y\n",
    "    def print_position(self):\n",
    "        print(self.x,self.y)\n",
    "    def moveUp(self):\n",
    "        self.y=int(self.y)+1\n",
    "    def moveLeft(self):\n",
    "        self.x=(int(self.x)-1)\n",
    "    def moveDown(self):\n",
    "        self.y=(int(self.y)-1)\n",
    "    def moveRight(self):\n",
    "        self.x=int(self.x)+1\n",
    "car = Vehicle()\n",
    "car.print_position()\n",
    "car.moveUp()\n",
    "car.print_position()\n",
    "car.moveLeft()\n",
    "car.print_position()\n",
    "car.moveDown()\n",
    "car.print_position()\n",
    "car.moveRight()\n"
   ]
  },
  {
   "cell_type": "code",
   "execution_count": 6,
   "metadata": {},
   "outputs": [
    {
     "name": "stdout",
     "output_type": "stream",
     "text": [
      "Horray! A new programmer is born\n",
      "Name: Ethen Hunt\n",
      "Language: Java\n",
      "Experience: 10\n",
      "--------------------------\n",
      "Horray! A new programmer is born\n",
      "Name: James Bond\n",
      "Language: C++\n",
      "Experience: 7\n",
      "--------------------------\n",
      "Horray! A new programmer is born\n",
      "Name: Jon Snow\n",
      "Language: Python\n",
      "Experience: 4\n",
      "Updating experience of Jon Snow\n",
      "Name: Jon Snow\n",
      "Language: Python\n",
      "Experience: 9\n"
     ]
    }
   ],
   "source": [
    "#Task 06\n",
    "class Programmer:\n",
    "    def __init__(self,name,language,time):\n",
    "        self.name=name\n",
    "        self.language=language\n",
    "        self.time=time\n",
    "        x = 'Horray! A new programmer is born'\n",
    "        print(x)\n",
    "    def addExp(self,time):\n",
    "        self.time=self.time + time\n",
    "        print('Updating experience of Jon Snow')\n",
    "    def printDetails(self):\n",
    "        print('Name:',self.name)\n",
    "        print('Language:',self.language)\n",
    "        print('Experience:',self.time)\n",
    "\n",
    "p1 = Programmer(\"Ethen Hunt\", \"Java\", 10)\n",
    "p1.printDetails()\n",
    "print('--------------------------')\n",
    "p2 = Programmer(\"James Bond\", \"C++\", 7)\n",
    "p2.printDetails()\n",
    "print('--------------------------')\n",
    "p3 = Programmer(\"Jon Snow\", \"Python\", 4)\n",
    "p3.printDetails()\n",
    "p3.addExp(5)\n",
    "p3.printDetails()\n"
   ]
  },
  {
   "cell_type": "code",
   "execution_count": 7,
   "metadata": {},
   "outputs": [
    {
     "name": "stdout",
     "output_type": "stream",
     "text": [
      "Name: Harry Potter\n",
      "ID: 123\n",
      "Department: CSE\n",
      "Daily Effort: 3 hour(s)\n",
      "Suggestion: Keep up the good work!\n",
      "========================\n",
      "Name: John Wick\n",
      "ID: 456\n",
      "Department: BBA\n",
      "Daily Effort: 2 hour(s)\n",
      "Suggestion: Keep up the good work!\n",
      "========================\n",
      "Name: Naruto Uzumaki\n",
      "ID: 777\n",
      "Department: Ninja\n",
      "Daily Effort: 6 hour(s)\n",
      "Suggestion: Excellent! Now motivate others.\n"
     ]
    }
   ],
   "source": [
    "#Task 07\n",
    "class Student:\n",
    "    def __init__(self,name,ID,dept='CSE'):\n",
    "        self.name=name\n",
    "        self.ID=ID\n",
    "        self.dept=dept\n",
    "    def dailyEffort(self, hour=0):\n",
    "        if hour <= 2:\n",
    "            x = 'Keep up the good work!'\n",
    "            self.hour=hour\n",
    "            self.x=x\n",
    "        elif hour <= 4:\n",
    "            x = 'Keep up the good work!'\n",
    "            self.hour = hour\n",
    "            self.x = x\n",
    "        else:\n",
    "            x = 'Excellent! Now motivate others.'\n",
    "            self.hour = hour\n",
    "            self.x = x\n",
    "    def printDetails(self):\n",
    "        print('Name:',self.name)\n",
    "        print('ID:', self.ID)\n",
    "        print('Department:', self.dept)\n",
    "        print('Daily Effort:', self.hour,'hour(s)')\n",
    "        print('Suggestion:',self.x)\n",
    "harry = Student('Harry Potter', 123)\n",
    "harry.dailyEffort(3)\n",
    "harry.printDetails()\n",
    "print('========================')\n",
    "john = Student(\"John Wick\", 456, \"BBA\")\n",
    "john.dailyEffort(2)\n",
    "john.printDetails()\n",
    "print('========================')\n",
    "naruto = Student(\"Naruto Uzumaki\", 777, \"Ninja\")\n",
    "naruto.dailyEffort(6)\n",
    "naruto.printDetails()\n"
   ]
  },
  {
   "cell_type": "code",
   "execution_count": 8,
   "metadata": {},
   "outputs": [
    {
     "name": "stdout",
     "output_type": "stream",
     "text": [
      "=========================\n",
      "Name: Thomas\n",
      "Age: 23\n",
      "Symtomps: Headache\n",
      "=========================\n",
      "Name: Carol\n",
      "Age: 20\n",
      "Symtomps: Vomiting,Coughing\n",
      "=========================\n",
      "Name: Mike\n",
      "Age: 25\n",
      "Symtomps: Fever,Headache,Coughing\n",
      "=========================\n"
     ]
    }
   ],
   "source": [
    "#Task 08\n",
    "class Patient:\n",
    "    def __init__(self,name,age):\n",
    "        self.name=name\n",
    "        self.age=age\n",
    "    def add_Symptom(self,*args):\n",
    "        x=''\n",
    "        for i in args:\n",
    "            x+=str(i)+','\n",
    "        x=x[:-1]\n",
    "        self.x=x\n",
    "    def printPatientDetail(self):\n",
    "        print('Name:',self.name)\n",
    "        print('Age:', self.age)\n",
    "        print('Symtomps:',self.x)\n",
    "p1 = Patient('Thomas', 23)\n",
    "p1.add_Symptom('Headache')\n",
    "p2 = Patient('Carol', 20)\n",
    "p2.add_Symptom('Vomiting', 'Coughing')\n",
    "p3 = Patient('Mike', 25)\n",
    "p3.add_Symptom('Fever', 'Headache', 'Coughing')\n",
    "print(\"=========================\")\n",
    "p1.printPatientDetail()\n",
    "print(\"=========================\")\n",
    "p2.printPatientDetail()\n",
    "print(\"=========================\")\n",
    "p3.printPatientDetail()\n",
    "print(\"=========================\")"
   ]
  },
  {
   "cell_type": "code",
   "execution_count": 9,
   "metadata": {},
   "outputs": [
    {
     "name": "stdout",
     "output_type": "stream",
     "text": [
      "=========================\n",
      "Name: Captain America\n",
      "Partner: Bucky Barnes\n",
      "Super powers: Stamina,Slowed ageing\n",
      "=========================\n",
      "Name: Doctor Strange\n",
      "Partner: Ancient One\n",
      "Super powers: Mastery of magic\n",
      "=========================\n",
      "Name: Iron Man\n",
      "Partner: War Machine\n",
      "Super powers: Genius level intellect,Scientist \n",
      "=========================\n"
     ]
    }
   ],
   "source": [
    "#Task09\n",
    "class Avengers:\n",
    "    def __init__(self,name,partner):\n",
    "        self.name=name\n",
    "        self.partner=partner\n",
    "    def super_powers(self,*args):\n",
    "        x=''\n",
    "        for i in args:\n",
    "            x+=i+','\n",
    "        x=x[:-1]\n",
    "        self.x=x\n",
    "    def printAvengersDetail(self):\n",
    "        print('Name:',self.name)\n",
    "        print('Partner:',self.partner)\n",
    "        print('Super powers:',self.x)\n",
    "\n",
    "a1 = Avengers('Captain America', 'Bucky Barnes')\n",
    "a1.super_powers('Stamina', 'Slowed ageing')\n",
    "a2 = Avengers('Doctor Strange', 'Ancient One')\n",
    "a2.super_powers('Mastery of magic')\n",
    "a3 = Avengers('Iron Man', 'War Machine')\n",
    "a3.super_powers('Genius level intellect', 'Scientist ')\n",
    "print(\"=========================\")\n",
    "a1.printAvengersDetail()\n",
    "print(\"=========================\")\n",
    "a2.printAvengersDetail()\n",
    "print(\"=========================\")\n",
    "a3.printAvengersDetail()\n",
    "print(\"=========================\")"
   ]
  },
  {
   "cell_type": "code",
   "execution_count": 10,
   "metadata": {},
   "outputs": [
    {
     "name": "stdout",
     "output_type": "stream",
     "text": [
      "Name: Naruto\n",
      "Rank: Genin\n",
      "Number of mission: 5\n",
      "Salary: 250\n",
      "====================\n",
      "Name: Shikamaru\n",
      "Rank: Genin\n",
      "Number of mission: 0\n",
      "Salary: 0\n",
      "Name: Shikamaru\n",
      "Rank: Chunin\n",
      "Number of mission: 10\n",
      "Salary: 1000\n",
      "====================\n",
      "Name: Neiji\n",
      "Rank: Jonin\n",
      "Number of mission: 5\n",
      "Salary: 2500\n"
     ]
    }
   ],
   "source": [
    "#Task10\n",
    "class Shinobi:\n",
    "    def __init__(self,name,rank):\n",
    "        self.name=name\n",
    "        self.rank=rank\n",
    "        self.mission=0\n",
    "        self.salary=0\n",
    "    def calSalary(self,mission):\n",
    "        self.mission=mission\n",
    "        if self.rank == 'Genin':\n",
    "            self.salary = self.mission * 50\n",
    "        elif self.rank == 'Chunin':\n",
    "            self.salary = self.mission * 100\n",
    "        else:\n",
    "            self.salary = self.mission * 500\n",
    "    def changeRank(self,nw):\n",
    "        self.rank=nw\n",
    "    def printInfo(self):\n",
    "        print('Name:',self.name)\n",
    "        print('Rank:',self.rank)\n",
    "        print('Number of mission:',self.mission)\n",
    "        print('Salary:',self.salary)\n",
    "naruto = Shinobi(\"Naruto\", \"Genin\")\n",
    "naruto.calSalary(5)\n",
    "naruto.printInfo()\n",
    "print('====================')\n",
    "shikamaru = Shinobi('Shikamaru', \"Genin\")\n",
    "shikamaru.printInfo()\n",
    "shikamaru.changeRank(\"Chunin\")\n",
    "shikamaru.calSalary(10)\n",
    "shikamaru.printInfo()\n",
    "print('====================')\n",
    "neiji = Shinobi(\"Neiji\", \"Jonin\")\n",
    "neiji.calSalary(5)\n",
    "neiji.printInfo()\n"
   ]
  },
  {
   "cell_type": "code",
   "execution_count": null,
   "metadata": {},
   "outputs": [],
   "source": []
  }
 ],
 "metadata": {
  "kernelspec": {
   "display_name": "Python 3",
   "language": "python",
   "name": "python3"
  },
  "language_info": {
   "codemirror_mode": {
    "name": "ipython",
    "version": 3
   },
   "file_extension": ".py",
   "mimetype": "text/x-python",
   "name": "python",
   "nbconvert_exporter": "python",
   "pygments_lexer": "ipython3",
   "version": "3.7.6"
  }
 },
 "nbformat": 4,
 "nbformat_minor": 4
}
