{
 "cells": [
  {
   "cell_type": "code",
   "execution_count": 1,
   "metadata": {},
   "outputs": [
    {
     "name": "stdout",
     "output_type": "stream",
     "text": [
      "5\n",
      "2\n",
      "0.5\n"
     ]
    }
   ],
   "source": [
    "#Task 01\n",
    "def division(num1,num2):\n",
    "    if num2==0 or num1==0:\n",
    "        return 0\n",
    "    else:\n",
    "        div=num1/num2\n",
    "        friction=float(div)-int(div)\n",
    "        return friction\n",
    "print(division(int(input()),int(input())))"
   ]
  },
  {
   "cell_type": "code",
   "execution_count": null,
   "metadata": {},
   "outputs": [],
   "source": [
    "#task 02\n",
    "def BMI(hight,weight):\n",
    "    hight_meter=hight/100\n",
    "    bmi=weight/(hight_meter**2)\n",
    "    if bmi<18.5:\n",
    "        print('Score is %.1f.'%bmi, 'You are UnderWeight')\n",
    "    elif 18.5<bmi<24.9:\n",
    "        print('Score is %.1f.'%bmi, 'You are Normal')\n",
    "    elif 25<bmi<30:\n",
    "        print('Score is %.1f.'%bmi, 'You are Overweight')\n",
    "    elif 30<bmi:\n",
    "        print('Score is %.1f.'%bmi, 'You are Obese')\n",
    "BMI(int(input()),int(input()))"
   ]
  },
  {
   "cell_type": "code",
   "execution_count": null,
   "metadata": {},
   "outputs": [],
   "source": [
    "#Task 03\n",
    "def allDivisorSum(min,max,divisor):\n",
    "    sum=0\n",
    "    for i in range(min,max):\n",
    "        if i%divisor==0:\n",
    "            sum+=i\n",
    "    return sum\n",
    "print(allDivisorSum(int(input()),int(input()),int(input())))"
   ]
  },
  {
   "cell_type": "code",
   "execution_count": null,
   "metadata": {},
   "outputs": [],
   "source": [
    "#Task 04\n",
    "def totalPrice(name,place='Mohakhali'):\n",
    "    menu = {'BBQ Chicken Cheese Burger': 250, 'Beef Burger': 170, 'Naga Drums': 200}\n",
    "    burger=menu[name]\n",
    "    tax=burger*0.08\n",
    "    if place=='Mohakhali':\n",
    "        price=burger+40+tax\n",
    "    else:\n",
    "        price=burger+60+tax\n",
    "    return price\n",
    "print(totalPrice(input(),input()))\n",
    "print(totalPrice(input()))\n"
   ]
  },
  {
   "cell_type": "code",
   "execution_count": null,
   "metadata": {},
   "outputs": [],
   "source": [
    "#Task 05\n",
    "def domain(dom,new,old='kaaj.com'):\n",
    "    new_dom=dom.split('@')\n",
    "    if new_dom[1]==new:\n",
    "        print(dom)\n",
    "    else:\n",
    "        new_dom[1] = new\n",
    "        update = new_dom[0] + '@' + new\n",
    "        print(update)\n",
    "domain(input(),input(),input())\n",
    "domain(input(),input())"
   ]
  },
  {
   "cell_type": "code",
   "execution_count": null,
   "metadata": {},
   "outputs": [],
   "source": [
    "#Task 06\n",
    "def vowelsChecker(name):\n",
    "    vowel=['a','e','i','o','u']\n",
    "    sum=0\n",
    "    string=''\n",
    "    for i in name:\n",
    "        if i in vowel:\n",
    "            sum+=1\n",
    "            string+=i+','\n",
    "    string=string[0:-1]\n",
    "    x='Vowels: '+ string +'. Total number of vowels: '+ str(sum)\n",
    "    if sum==0:\n",
    "        x='No vowels in the name'\n",
    "    return x\n",
    "print(vowelsChecker(input()))"
   ]
  },
  {
   "cell_type": "code",
   "execution_count": null,
   "metadata": {},
   "outputs": [],
   "source": [
    "#Task 07\n",
    "user_input=input()\n",
    "backword=[]\n",
    "forword=[]\n",
    "for i in range(len(user_input)):\n",
    "    if user_input[i]==' ':\n",
    "        continue\n",
    "    else:\n",
    "        forword.append(user_input[i])\n",
    "for i in range(len(user_input)-1,-1,-1):\n",
    "    if user_input[i]==' ':\n",
    "        continue\n",
    "    else:\n",
    "        backword.append(user_input[i])\n",
    "rev=''.join(backword)\n",
    "forw=''.join(forword)\n",
    "if forw==rev:\n",
    "    print('Palindrome')\n",
    "else:\n",
    "    print('Not a palindrome')"
   ]
  },
  {
   "cell_type": "code",
   "execution_count": null,
   "metadata": {},
   "outputs": [],
   "source": [
    "#Task 08\n",
    "usr_input = int(input('Enter the number of Days: '))\n",
    "def numberofdays(day):\n",
    "    years=usr_input//365\n",
    "    print(years,'years, ',end='')\n",
    "    mon=usr_input%365\n",
    "    month=mon//30\n",
    "    print(month,'months and ',end='')\n",
    "    days=mon%30\n",
    "    print(days,'days',end='')\n",
    "numberofdays(usr_input)"
   ]
  },
  {
   "cell_type": "code",
   "execution_count": null,
   "metadata": {},
   "outputs": [],
   "source": [
    "#Task 09\n",
    "def capital():\n",
    "    words=str(input())\n",
    "    words_list=list(words)\n",
    "    cap=['.','?','!']\n",
    "    ind=[]\n",
    "    cap_i=[]\n",
    "    for char in range(len(words)):\n",
    "        if words[char] in cap:\n",
    "            ind.append(char+2)\n",
    "        elif words[char]=='i':\n",
    "            if ord(words[char-1])==32 and ord(words[char+1])==32:\n",
    "                cap_i.append(char)\n",
    "    for item in range(len(words_list)-1):\n",
    "        if item==0:\n",
    "            words_list[int(item)]=words_list[int(item)].upper()\n",
    "        elif item in ind:\n",
    "            words_list[int(item)]=words[int(item)].upper()\n",
    "    for i in range(len(cap_i)):\n",
    "        cap_i[i]=words[int(i)].upper()\n",
    "    join=''.join(words_list)\n",
    "    print(join)\n",
    "capital()"
   ]
  }
 ],
 "metadata": {
  "kernelspec": {
   "display_name": "Python 3",
   "language": "python",
   "name": "python3"
  },
  "language_info": {
   "codemirror_mode": {
    "name": "ipython",
    "version": 3
   },
   "file_extension": ".py",
   "mimetype": "text/x-python",
   "name": "python",
   "nbconvert_exporter": "python",
   "pygments_lexer": "ipython3",
   "version": "3.7.6"
  }
 },
 "nbformat": 4,
 "nbformat_minor": 4
}
